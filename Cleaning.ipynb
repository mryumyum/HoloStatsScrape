{
 "cells": [
  {
   "cell_type": "code",
   "execution_count": 2,
   "id": "2280bd27-30df-4dbb-8607-81ae4b296e31",
   "metadata": {},
   "outputs": [],
   "source": [
    "# -*- coding: utf-8 -*-\n",
    "\n",
    "# Sample Python code for youtube.channels.list\n",
    "# See instructions for running these code samples locally:\n",
    "# https://developers.google.com/explorer-help/code-samples#python\n",
    "\n",
    "import os\n",
    "import google_auth_oauthlib.flow\n",
    "import googleapiclient.discovery\n",
    "import googleapiclient.errors\n",
    "import pandas as pd\n",
    "import numpy as np\n",
    "import isodate\n",
    "import pickle\n",
    "import datetime\n",
    "import pytz\n",
    "from dateutil import tz\n",
    "from IPython.display import JSON\n",
    "from datetime import timedelta\n",
    "\n",
    "pd.set_option('display.max_columns', None)\n",
    "\n",
    "from IPython.core.interactiveshell import InteractiveShell\n",
    "InteractiveShell.ast_node_interactivity = \"all\""
   ]
  },
  {
   "cell_type": "markdown",
   "id": "9d053b4c-f4df-47ae-a1e2-718467fa2454",
   "metadata": {},
   "source": [
    " # Cleaning up the dataset(s)"
   ]
  },
  {
   "cell_type": "code",
   "execution_count": 3,
   "id": "9487fed8-1559-4298-b699-38ba65a3f130",
   "metadata": {
    "tags": []
   },
   "outputs": [],
   "source": [
    "df= pd.read_excel(\"Hololive_channel_video_data_REF.xlsx\", index_col=None)\n",
    "df_2022 = pd.read_excel('output_2022_REF.xlsx', index_col=None)\n",
    "df_stat = pd.read_excel('Hololive_channel_stats.xlsx', index_col=None)"
   ]
  },
  {
   "cell_type": "code",
   "execution_count": 4,
   "id": "4e35d49c-75f1-467e-8897-f99f99e9fbeb",
   "metadata": {},
   "outputs": [],
   "source": [
    "df_u = pd.merge(df_2022, df, how = 'left', left_on = 'Video_ID', right_on = 'video_id')"
   ]
  },
  {
   "cell_type": "code",
   "execution_count": 5,
   "id": "431a3c14-73b0-4c9f-8958-4110aef5ccde",
   "metadata": {
    "tags": []
   },
   "outputs": [
    {
     "data": {
      "text/plain": [
       "(13439, 30)"
      ]
     },
     "execution_count": 5,
     "metadata": {},
     "output_type": "execute_result"
    }
   ],
   "source": [
    "df_u = df_u.drop_duplicates(subset = ['Video_ID'])\n",
    "df_u.shape"
   ]
  },
  {
   "cell_type": "code",
   "execution_count": 6,
   "id": "7fec8d6b-68ca-498b-ba37-03cc4a4ddb42",
   "metadata": {},
   "outputs": [
    {
     "data": {
      "text/plain": [
       "(13439, 36)"
      ]
     },
     "execution_count": 6,
     "metadata": {},
     "output_type": "execute_result"
    }
   ],
   "source": [
    "df_sp_ult = pd.merge(df_u, df_stat, how = 'left', left_on = 'Creator', right_on = 'Creator')\n",
    "df_sp_ult = df_sp_ult.drop_duplicates(subset = ['Video_ID'])\n",
    "df_sp_ult.shape"
   ]
  },
  {
   "cell_type": "code",
   "execution_count": 9,
   "id": "8c4f744c-2a5f-43d9-9047-fd656fc12264",
   "metadata": {},
   "outputs": [],
   "source": [
    "df_sp_ult = df_sp_ult.drop(columns=['video_id','title', 'viewCount', 'likeCount', 'favoriteCount', 'commentCount', 'definition', 'caption', 'views', 'playlistId'])\n",
    "#df_sp_ult[df_sp_ult['Creator'] == 'Sakamata Chloe']"
   ]
  },
  {
   "cell_type": "code",
   "execution_count": 10,
   "id": "a94b4ae1-92ae-4d71-ad89-d033b1c5613e",
   "metadata": {},
   "outputs": [
    {
     "data": {
      "text/plain": [
       "(13439, 26)"
      ]
     },
     "execution_count": 10,
     "metadata": {},
     "output_type": "execute_result"
    }
   ],
   "source": [
    "df_sp_ult.shape"
   ]
  },
  {
   "cell_type": "code",
   "execution_count": 11,
   "id": "8119cca3-31e5-4a70-809b-98bbd0301826",
   "metadata": {},
   "outputs": [
    {
     "data": {
      "text/plain": [
       "array(['Ayamy', 'Hololive Official', 'Natsuiro Matsuri', 'Shigure Ui',\n",
       "       'Kagura Nana', 'Pochimaru', 'Hololive Indonesia Official',\n",
       "       'Aoi Nabi', 'Hololive English Official', 'Uruha Rushia'],\n",
       "      dtype=object)"
      ]
     },
     "execution_count": 11,
     "metadata": {},
     "output_type": "execute_result"
    }
   ],
   "source": [
    "tmp = df_sp_ult[df_sp_ult['Branch'].isna()]\n",
    "tmp['Creator'].unique()"
   ]
  },
  {
   "cell_type": "code",
   "execution_count": 12,
   "id": "ed60227f-5bc1-4a59-93bc-0a08bcae7a90",
   "metadata": {},
   "outputs": [
    {
     "data": {
      "text/plain": [
       "False"
      ]
     },
     "execution_count": 12,
     "metadata": {},
     "output_type": "execute_result"
    }
   ],
   "source": [
    "tmp = df_sp_ult.drop(df_sp_ult[df_sp_ult.Creator.isin(['Ayamy', 'Hololive Official', 'Shigure Ui','Kagura Nana', 'Pochimaru', 'Hololive Indonesia Official','Aoi Nabi', 'Hololive English Official'])].index)\n",
    "tmp.loc[tmp['Creator'] == 'Uruha Rushia', 'Branch'] = 'Japan'\n",
    "tmp.loc[tmp['Creator'] == 'Natsuiro Matsuri', 'Branch'] = 'Japan'\n",
    "tmp['Creator'].isna().any()"
   ]
  },
  {
   "cell_type": "code",
   "execution_count": 13,
   "id": "c7de8f7b-4524-4ac5-a312-e788b7bd2657",
   "metadata": {
    "tags": []
   },
   "outputs": [
    {
     "data": {
      "text/plain": [
       "(12826, 26)"
      ]
     },
     "execution_count": 13,
     "metadata": {},
     "output_type": "execute_result"
    }
   ],
   "source": [
    "tmp.shape"
   ]
  },
  {
   "cell_type": "markdown",
   "id": "3eb0433a-ceb0-44c4-8ddf-a8d56b05368a",
   "metadata": {},
   "source": [
    "### Looking at the Data, A large selection of the $0 superchat streams are from membership streams and The Game Elden Ring for some reason, so we are keeping 0s as 0s"
   ]
  },
  {
   "cell_type": "code",
   "execution_count": 15,
   "id": "40f661b1-46de-4fd5-a60c-1e9efddc8d36",
   "metadata": {},
   "outputs": [
    {
     "data": {
      "text/plain": [
       "Oozora Subaru        36.363636\n",
       "Akai Haato           28.627451\n",
       "Mori Calliope        24.122807\n",
       "Watson Amelia        23.107570\n",
       "Ninomae Ina'nis      22.689076\n",
       "Amane Kanata         18.316832\n",
       "Ouro Kronii          16.666667\n",
       "Tokino Sora          15.418502\n",
       "Shirogane Noel       14.553991\n",
       "IRyS                 14.285714\n",
       "Airani Iofifteen     13.402062\n",
       "Gawr Gura            13.333333\n",
       "Kazama Iroha         13.191489\n",
       "La+ Darknesss        13.043478\n",
       "Shishiro Botan       12.556054\n",
       "Sakamata Chloe       12.350598\n",
       "Takanashi Kiara      12.307692\n",
       "Yukihana Lamy        12.030075\n",
       "Shiranui Flare       11.387900\n",
       "Aki Rosenthal        11.210762\n",
       "AZKi                 11.111111\n",
       "Kureiji Ollie        11.111111\n",
       "Ceres Fauna           9.756098\n",
       "Nekomata Okayu        9.638554\n",
       "Usada Pekora          9.121622\n",
       "Kobo Kanaeru          9.012876\n",
       "Murasaki Shion        8.955224\n",
       "Sakura Miko           8.278146\n",
       "Hoshimachi Suisei     7.936508\n",
       "Moona Hoshinova       7.623318\n",
       "Takane Lui            7.565012\n",
       "Pavolia Reine         7.377049\n",
       "Omaru Polka           6.923077\n",
       "Minato Aqua           6.756757\n",
       "Vestia Zeta           6.177606\n",
       "Hakui Koyori          5.669291\n",
       "Shirakami Fubuki      5.353319\n",
       "Momosuzu Nene         5.188679\n",
       "Himemori Luna         5.084746\n",
       "Anya Melfissa         5.063291\n",
       "Hakos Baelz           4.230769\n",
       "Uruha Rushia          4.166667\n",
       "Houshou Marine        4.166667\n",
       "Nanashi Mumei         4.128440\n",
       "Tsunomaki Watame      3.833866\n",
       "Ookami Mio            3.734440\n",
       "Tokoyami Towa         3.618421\n",
       "Natsuiro Matsuri      3.529412\n",
       "Kaela Kovalskia       3.341289\n",
       "Yuzuki Choco          2.928870\n",
       "Roboco                2.926829\n",
       "Ayunda Risu           2.816901\n",
       "Nakiri Ayame          2.702703\n",
       "Yozora Mel            2.684564\n",
       "Inugami Korone        2.072539\n",
       "Tsukumo Sana               NaN\n",
       "Name: Creator, dtype: float64"
      ]
     },
     "execution_count": 15,
     "metadata": {},
     "output_type": "execute_result"
    }
   ],
   "source": [
    "pd.set_option('display.max_rows', None)\n",
    "tmpna = tmp\n",
    "tmpna['SuperChat_total'] = tmpna['SuperChat_total'].replace(0.00, np.nan)\n",
    "#tmpna = tmp[tmp['duration'].isna()]\n",
    "#tmpna['Creator'].value_counts()\n",
    "#tmp[tmp['SuperChat_total'].isna()]\n",
    "tmpna = tmpna[tmpna['SuperChat_total'].isna()]\n",
    "\n",
    "# Percentage of Vids with $0 in SuperChats\n",
    "((tmpna['Creator'].value_counts()/tmp['Creator'].value_counts())*100).sort_values(ascending = False)"
   ]
  },
  {
   "cell_type": "code",
   "execution_count": 16,
   "id": "75ce639e-c1b7-4c87-a335-2dd871d5822f",
   "metadata": {
    "tags": []
   },
   "outputs": [],
   "source": [
    "pd.set_option('display.max_rows', 25)"
   ]
  },
  {
   "cell_type": "code",
   "execution_count": 19,
   "id": "903fa171-8629-47bd-88ff-f6873e59ef3e",
   "metadata": {},
   "outputs": [],
   "source": [
    "#tmp['SuperChat_total'].fillna(tmp.groupby('Creator')['SuperChat_total'].transform('mean'))\n",
    "#tmp['Avg_viewers'] = tmp['Avg_viewers'].replace('---', np.nan)\n",
    "#tmp['Max_viewers'] = tmp['Max_viewers'].replace('---', np.nan)\n",
    "\n",
    "tmp['SuperChat_total'] = tmp['SuperChat_total'].replace(np.nan, 0.00)\n",
    "tmp['Max_viewers'] = tmp['Max_viewers'].fillna(tmp.groupby('Creator')['Max_viewers'].transform('mean'))\n",
    "tmp['Avg_viewers'] = tmp['Avg_viewers'].fillna(tmp.groupby('Creator')['Avg_viewers'].transform('mean'))\n",
    "\n",
    "#pd.set_option('display.max_rows', 25)\n",
    "#tmp[tmp['Avg_viewers'].isna()]\n",
    "#tmp[tmp['Max_viewers'].isna()]"
   ]
  },
  {
   "cell_type": "markdown",
   "id": "45527864-44b5-4f4d-b235-d8cbcb664f3c",
   "metadata": {},
   "source": [
    "### While cleaning I noticed there were some entires that had null values for duration and published time. So I went back and rewrote the collection code to take in duration and start time (UST)"
   ]
  },
  {
   "cell_type": "code",
   "execution_count": null,
   "id": "d6bf6ab8-3de6-4e9a-8758-8ccadf6cf396",
   "metadata": {},
   "outputs": [],
   "source": [
    "tmp['duration'].isnull().sum()"
   ]
  },
  {
   "cell_type": "code",
   "execution_count": null,
   "id": "e3a15747-c854-491c-a170-959a5a6d1d62",
   "metadata": {},
   "outputs": [],
   "source": [
    "tmp['duration'].isnull().sum()\n",
    "tmp['publishedAt'].isnull().sum()\n",
    "null_rows = tmp[tmp['duration'].isnull()]\n",
    "URL_null = null_rows['URL'].to_numpy()\n",
    "#pickle.dump(URL_null, open(f'Null Duration URLs.pkl','wb'))"
   ]
  },
  {
   "cell_type": "markdown",
   "id": "bedc010b-1791-4bcc-89ca-901d6ded8633",
   "metadata": {},
   "source": [
    "#### Insert Pickle file into Scraper and get back the below file"
   ]
  },
  {
   "cell_type": "code",
   "execution_count": 20,
   "id": "ac8cdee5-b337-42f4-a369-43b773d09b62",
   "metadata": {},
   "outputs": [],
   "source": [
    "df_nt = pd.read_excel('output_2022_DURATION_NULL.xlsx')"
   ]
  },
  {
   "cell_type": "code",
   "execution_count": 21,
   "id": "5066291b-c23f-414e-b964-c6afdc1ef0da",
   "metadata": {
    "tags": []
   },
   "outputs": [],
   "source": [
    "df_nt.drop(df_nt[df_nt['duration'] == ' NaN:NaN:NaN '].index, inplace = True)"
   ]
  },
  {
   "cell_type": "code",
   "execution_count": 22,
   "id": "a836bc45-21e0-43ce-a15b-42829703beea",
   "metadata": {
    "tags": []
   },
   "outputs": [
    {
     "name": "stderr",
     "output_type": "stream",
     "text": [
      "C:\\Users\\Zach\\anaconda3\\lib\\site-packages\\pandas\\core\\indexing.py:1732: SettingWithCopyWarning: \n",
      "A value is trying to be set on a copy of a slice from a DataFrame\n",
      "\n",
      "See the caveats in the documentation: https://pandas.pydata.org/pandas-docs/stable/user_guide/indexing.html#returning-a-view-versus-a-copy\n",
      "  self._setitem_single_block(indexer, value, name)\n"
     ]
    },
    {
     "data": {
      "text/html": [
       "<div>\n",
       "<style scoped>\n",
       "    .dataframe tbody tr th:only-of-type {\n",
       "        vertical-align: middle;\n",
       "    }\n",
       "\n",
       "    .dataframe tbody tr th {\n",
       "        vertical-align: top;\n",
       "    }\n",
       "\n",
       "    .dataframe thead th {\n",
       "        text-align: right;\n",
       "    }\n",
       "</style>\n",
       "<table border=\"1\" class=\"dataframe\">\n",
       "  <thead>\n",
       "    <tr style=\"text-align: right;\">\n",
       "      <th></th>\n",
       "      <th>Unnamed: 0</th>\n",
       "      <th>URL</th>\n",
       "      <th>Video_ID</th>\n",
       "      <th>Video_Title</th>\n",
       "      <th>Creator</th>\n",
       "      <th>Avg_viewers</th>\n",
       "      <th>Max_viewers</th>\n",
       "      <th>SuperChat_total</th>\n",
       "      <th>Stream_Start_Time_UST</th>\n",
       "      <th>duration</th>\n",
       "    </tr>\n",
       "  </thead>\n",
       "  <tbody>\n",
       "    <tr>\n",
       "      <th>0</th>\n",
       "      <td>0</td>\n",
       "      <td>https://holo.poi.cat/stream/iSZfA1X-lzE</td>\n",
       "      <td>iSZfA1X-lzE</td>\n",
       "      <td>【UNARCHIVED KARAOKE】 Singing til the new year!!!</td>\n",
       "      <td>Ceres Fauna</td>\n",
       "      <td>13,542</td>\n",
       "      <td>16,155</td>\n",
       "      <td>$2,939.12</td>\n",
       "      <td>05:53:07 - 08:07:32</td>\n",
       "      <td>8065</td>\n",
       "    </tr>\n",
       "    <tr>\n",
       "      <th>1</th>\n",
       "      <td>1</td>\n",
       "      <td>https://holo.poi.cat/stream/iFv7Bf53Do8</td>\n",
       "      <td>iFv7Bf53Do8</td>\n",
       "      <td>【NYE】LET'S CELEBRATE! #2023</td>\n",
       "      <td>Watson Amelia</td>\n",
       "      <td>11,736</td>\n",
       "      <td>19,255</td>\n",
       "      <td>$3,337.57</td>\n",
       "      <td>03:01:04 - 05:24:25</td>\n",
       "      <td>8601</td>\n",
       "    </tr>\n",
       "    <tr>\n",
       "      <th>2</th>\n",
       "      <td>2</td>\n",
       "      <td>https://holo.poi.cat/stream/1U8sZXsNUFw</td>\n",
       "      <td>1U8sZXsNUFw</td>\n",
       "      <td>【ポケモンSV】色違いイーブイ孵化チャレンジ🔥今年最後に運はくるのか！孵化しおわったら交換会...</td>\n",
       "      <td>Kazama Iroha</td>\n",
       "      <td>8,724</td>\n",
       "      <td>10,382</td>\n",
       "      <td>$3,256.51</td>\n",
       "      <td>05:05:29 - 09:11:07</td>\n",
       "      <td>14738</td>\n",
       "    </tr>\n",
       "    <tr>\n",
       "      <th>3</th>\n",
       "      <td>3</td>\n",
       "      <td>https://holo.poi.cat/stream/BEr0tG1g4h8</td>\n",
       "      <td>BEr0tG1g4h8</td>\n",
       "      <td>【歌枠】悪魔の保健医の今年最後のバーストストリーム【ホロライブ/癒月ちょこ】</td>\n",
       "      <td>Yuzuki Choco</td>\n",
       "      <td>3,064</td>\n",
       "      <td>3,948</td>\n",
       "      <td>$33.42</td>\n",
       "      <td>16:49:33 - 18:18:43</td>\n",
       "      <td>5350</td>\n",
       "    </tr>\n",
       "    <tr>\n",
       "      <th>4</th>\n",
       "      <td>4</td>\n",
       "      <td>https://holo.poi.cat/stream/pyHtS18BamQ</td>\n",
       "      <td>pyHtS18BamQ</td>\n",
       "      <td>【MoonUtau】Unarchive home3D sudden Karaoke【Unar...</td>\n",
       "      <td>Moona Hoshinova</td>\n",
       "      <td>5,432</td>\n",
       "      <td>6,533</td>\n",
       "      <td>$46.70</td>\n",
       "      <td>15:18:08 - 17:08:38</td>\n",
       "      <td>6630</td>\n",
       "    </tr>\n",
       "  </tbody>\n",
       "</table>\n",
       "</div>"
      ],
      "text/plain": [
       "   Unnamed: 0                                      URL     Video_ID  \\\n",
       "0           0  https://holo.poi.cat/stream/iSZfA1X-lzE  iSZfA1X-lzE   \n",
       "1           1  https://holo.poi.cat/stream/iFv7Bf53Do8  iFv7Bf53Do8   \n",
       "2           2  https://holo.poi.cat/stream/1U8sZXsNUFw  1U8sZXsNUFw   \n",
       "3           3  https://holo.poi.cat/stream/BEr0tG1g4h8  BEr0tG1g4h8   \n",
       "4           4  https://holo.poi.cat/stream/pyHtS18BamQ  pyHtS18BamQ   \n",
       "\n",
       "                                         Video_Title          Creator  \\\n",
       "0   【UNARCHIVED KARAOKE】 Singing til the new year!!!      Ceres Fauna   \n",
       "1                        【NYE】LET'S CELEBRATE! #2023    Watson Amelia   \n",
       "2  【ポケモンSV】色違いイーブイ孵化チャレンジ🔥今年最後に運はくるのか！孵化しおわったら交換会...     Kazama Iroha   \n",
       "3             【歌枠】悪魔の保健医の今年最後のバーストストリーム【ホロライブ/癒月ちょこ】     Yuzuki Choco   \n",
       "4  【MoonUtau】Unarchive home3D sudden Karaoke【Unar...  Moona Hoshinova   \n",
       "\n",
       "  Avg_viewers Max_viewers SuperChat_total Stream_Start_Time_UST duration  \n",
       "0      13,542      16,155      $2,939.12    05:53:07 - 08:07:32     8065  \n",
       "1      11,736      19,255      $3,337.57    03:01:04 - 05:24:25     8601  \n",
       "2       8,724      10,382      $3,256.51    05:05:29 - 09:11:07    14738  \n",
       "3       3,064       3,948         $33.42    16:49:33 - 18:18:43     5350  \n",
       "4       5,432       6,533         $46.70    15:18:08 - 17:08:38     6630  "
      ]
     },
     "execution_count": 22,
     "metadata": {},
     "output_type": "execute_result"
    }
   ],
   "source": [
    "# Convert Duration intos seconds\n",
    "# Original scraper did not take in the start time and duration so we convert\n",
    "\n",
    "df_nt['duration'] = df_nt['duration'].str.strip()\n",
    "df_nt['Stream_Start_Time_UST'] = df_nt['Stream_Start_Time_UST'].str.strip()\n",
    "\n",
    "for x in range(0, len(df_nt)):\n",
    "    if len(df_nt['duration'].iloc[x]) <= 5:\n",
    "        df_nt['duration'].iloc[x] = '00:'+df_nt['duration'].iloc[x]\n",
    "\n",
    "for x in range(0, len(df_nt)):\n",
    "    \n",
    "    hms = df_nt['duration'].iloc[x].split(':')\n",
    "    seconds = int(hms[0])*3600+int(hms[1])*60+int(hms[2])\n",
    "    df_nt['duration'].iloc[x] = seconds\n",
    "\n",
    "df_nt.head()"
   ]
  },
  {
   "cell_type": "code",
   "execution_count": 131,
   "id": "bc117435-1394-431d-88d2-dfd8e106a812",
   "metadata": {
    "tags": []
   },
   "outputs": [],
   "source": [
    "tmp2 = tmp"
   ]
  },
  {
   "cell_type": "code",
   "execution_count": 132,
   "id": "cd3289cf-2d62-4801-80ef-2a1bfde61b43",
   "metadata": {},
   "outputs": [],
   "source": [
    "tmp2 = tmp2.set_index('Video_ID')\n",
    "tmp2 = tmp2.fillna(df_nt.set_index('Video_ID'))\n",
    "tmp2['duration'] = tmp2['duration'].fillna(0)"
   ]
  },
  {
   "cell_type": "code",
   "execution_count": 133,
   "id": "c3190368-12ee-4567-b46e-f6afb7671a87",
   "metadata": {},
   "outputs": [],
   "source": [
    "tmp2 = tmp2.merge(df_nt[['Video_ID', 'Stream_Start_Time_UST']], on = 'Video_ID' , how = 'left')"
   ]
  },
  {
   "cell_type": "code",
   "execution_count": 134,
   "id": "cfaa3be5-4912-43b5-8a42-2f939c1c5eaf",
   "metadata": {},
   "outputs": [
    {
     "data": {
      "text/plain": [
       "741"
      ]
     },
     "execution_count": 134,
     "metadata": {},
     "output_type": "execute_result"
    }
   ],
   "source": [
    "tmp2['Stream_Start_Time_UST'].notnull().sum()"
   ]
  },
  {
   "cell_type": "code",
   "execution_count": 135,
   "id": "f7de161a-1a05-44f1-a1ed-4e4375c5b501",
   "metadata": {
    "tags": []
   },
   "outputs": [],
   "source": [
    "tmp2 = tmp2.drop(1688)\n",
    "tmp2 = tmp2.reset_index()"
   ]
  },
  {
   "cell_type": "code",
   "execution_count": 136,
   "id": "6da2c2d6-8569-425b-8054-4ea8ba04e137",
   "metadata": {},
   "outputs": [],
   "source": [
    "pd.set_option('display.max_rows', 750)\n",
    "tmp2 = tmp2.sort_values(by='Stream Start Time UST', na_position='first', ascending = False)\n",
    "tmp3 = tmp2.iloc[:741]\n",
    "tmp2 = tmp2[741:]"
   ]
  },
  {
   "cell_type": "code",
   "execution_count": 1,
   "id": "a242f1fc-2110-43b7-beb3-3eeea6332e7f",
   "metadata": {},
   "outputs": [
    {
     "ename": "NameError",
     "evalue": "name 'pd' is not defined",
     "output_type": "error",
     "traceback": [
      "\u001b[1;31m---------------------------------------------------------------------------\u001b[0m",
      "\u001b[1;31mNameError\u001b[0m                                 Traceback (most recent call last)",
      "\u001b[1;32m~\\AppData\\Local\\Temp/ipykernel_30736/3638810970.py\u001b[0m in \u001b[0;36m<module>\u001b[1;34m\u001b[0m\n\u001b[1;32m----> 1\u001b[1;33m \u001b[0mpd\u001b[0m\u001b[1;33m.\u001b[0m\u001b[0mset_option\u001b[0m\u001b[1;33m(\u001b[0m\u001b[1;34m'display.max_rows'\u001b[0m\u001b[1;33m,\u001b[0m \u001b[1;36m750\u001b[0m\u001b[1;33m)\u001b[0m\u001b[1;33m\u001b[0m\u001b[1;33m\u001b[0m\u001b[0m\n\u001b[0m\u001b[0;32m      2\u001b[0m \u001b[1;33m\u001b[0m\u001b[0m\n\u001b[0;32m      3\u001b[0m \u001b[1;31m# Percentage of superchats with missing dates\u001b[0m\u001b[1;33m\u001b[0m\u001b[1;33m\u001b[0m\u001b[0m\n\u001b[0;32m      4\u001b[0m \u001b[1;33m(\u001b[0m\u001b[1;33m(\u001b[0m\u001b[0mtmp3\u001b[0m\u001b[1;33m.\u001b[0m\u001b[0mgroupby\u001b[0m\u001b[1;33m(\u001b[0m\u001b[1;34m'Creator'\u001b[0m\u001b[1;33m)\u001b[0m\u001b[1;33m[\u001b[0m\u001b[1;34m'SuperChat_total'\u001b[0m\u001b[1;33m]\u001b[0m\u001b[1;33m.\u001b[0m\u001b[0msum\u001b[0m\u001b[1;33m(\u001b[0m\u001b[1;33m)\u001b[0m\u001b[1;33m/\u001b[0m\u001b[0mtmp2\u001b[0m\u001b[1;33m.\u001b[0m\u001b[0mgroupby\u001b[0m\u001b[1;33m(\u001b[0m\u001b[1;34m'Creator'\u001b[0m\u001b[1;33m)\u001b[0m\u001b[1;33m[\u001b[0m\u001b[1;34m'SuperChat_total'\u001b[0m\u001b[1;33m]\u001b[0m\u001b[1;33m.\u001b[0m\u001b[0msum\u001b[0m\u001b[1;33m(\u001b[0m\u001b[1;33m)\u001b[0m\u001b[1;33m)\u001b[0m\u001b[1;33m*\u001b[0m\u001b[1;36m100\u001b[0m\u001b[1;33m)\u001b[0m\u001b[1;33m.\u001b[0m\u001b[0msort_values\u001b[0m\u001b[1;33m(\u001b[0m\u001b[0mascending\u001b[0m \u001b[1;33m=\u001b[0m \u001b[1;32mFalse\u001b[0m\u001b[1;33m)\u001b[0m\u001b[1;33m\u001b[0m\u001b[1;33m\u001b[0m\u001b[0m\n",
      "\u001b[1;31mNameError\u001b[0m: name 'pd' is not defined"
     ]
    }
   ],
   "source": [
    "pd.set_option('display.max_rows', 750)\n",
    "\n",
    "# Percentage of superchats with missing dates\n",
    "((tmp3.groupby('Creator')['SuperChat_total'].sum()/tmp2.groupby('Creator')['SuperChat_total'].sum())*100).sort_values(ascending = False)"
   ]
  },
  {
   "cell_type": "code",
   "execution_count": 159,
   "id": "3983229f-9ba3-46ac-bb1b-c7c4b8b698e3",
   "metadata": {
    "tags": []
   },
   "outputs": [
    {
     "name": "stdout",
     "output_type": "stream",
     "text": [
      "2224\n"
     ]
    }
   ],
   "source": [
    "# Pandas has no function that allows you to insert in between rows. All of the solutions I found made you reset the index and only really worked for a singl instance. \n",
    "# We dont want to reset the indexs as they are imperative to keeping the chronilogical order of our dataset\n",
    "\n",
    "ins_list = tmp3.values.tolist()\n",
    "og_list = tmp2.values.tolist()\n",
    "\n",
    "for x in range(len(ins_list)):\n",
    "    og_list.insert(ins_list[x][0], ins_list[x])\n",
    "    \n",
    "og_list.insert(0, list(tmp2.columns.values))\n",
    "\n",
    "df = pd.DataFrame(og_list)\n",
    "new_header = df.iloc[0]\n",
    "df = df[1:]\n",
    "df.columns = new_header"
   ]
  },
  {
   "cell_type": "code",
   "execution_count": 171,
   "id": "d9df9740-6056-4f43-b023-094dae5aa9f5",
   "metadata": {},
   "outputs": [
    {
     "data": {
      "text/plain": [
       "150"
      ]
     },
     "execution_count": 171,
     "metadata": {},
     "output_type": "execute_result"
    },
    {
     "data": {
      "text/plain": [
       "'【 Fall Guys 】久しぶりにプレイしたら絶叫とお口悪ーナになった！なのら【姫森ルーナ/ホロライブ】'"
      ]
     },
     "execution_count": 171,
     "metadata": {},
     "output_type": "execute_result"
    },
    {
     "data": {
      "text/plain": [
       "'Himemori Luna'"
      ]
     },
     "execution_count": 171,
     "metadata": {},
     "output_type": "execute_result"
    }
   ],
   "source": [
    "x = 9\n",
    "ins_list[x][0]\n",
    "ins_list[x][3]\n",
    "ins_list[x][4]"
   ]
  },
  {
   "cell_type": "code",
   "execution_count": null,
   "id": "fe32e8fa-fbae-4b90-ada0-b87410190089",
   "metadata": {},
   "outputs": [],
   "source": [
    "pd.set_option('display.max_rows', None)\n",
    "#df[df['Stream Start Time UST'].isna()]\n",
    "#df[df['Video_ID'] == 'jmD8lgQQBDc']\n",
    "#df.loc[12000:12050]"
   ]
  },
  {
   "cell_type": "code",
   "execution_count": 181,
   "id": "f5f7effa-2d9d-4537-b6a6-f4b293d3ce1a",
   "metadata": {},
   "outputs": [],
   "source": [
    "%%capture\n",
    "def convert(first_val_index):\n",
    "    \n",
    "    hms = df['Stream Start Time UST'].iloc[first_val_index].strftime(\"%H:%M:%S\").split(':')\n",
    "            \n",
    "    start = df['Stream_Start_Time_UST'].iloc[x].split('-')[0].strip()\n",
    "    start = start.split(':')\n",
    "\n",
    "    end = df['Stream_Start_Time_UST'].iloc[x].split('-')[1].strip()\n",
    "    end = end.split(':')\n",
    "\n",
    "    hours = int(hms[0])\n",
    "    minutes = int(hms[1])\n",
    "    seconds = int(hms[2])\n",
    "\n",
    "    start_h = int(start[0])\n",
    "    start_m = int(start[1])\n",
    "    start_s = int(start[2])\n",
    "\n",
    "    end_h = int(end[0])\n",
    "    end_m = int(end[1])\n",
    "    end_s = int(end[2])\n",
    "\n",
    "\n",
    "    insert_into = df['Stream Start Time UST'].iloc[first_val_index] - timedelta(hours=hours, minutes=minutes, seconds=seconds)\n",
    "    published = insert_into + timedelta(hours=end_h, minutes=end_m, seconds=end_s)\n",
    "\n",
    "    if (insert_into.year == 2023): \n",
    "        insert_into = insert_into - timedelta(days=1)\n",
    "\n",
    "    insert_into = insert_into + timedelta(hours=start_h, minutes=start_m, seconds=start_s)\n",
    "\n",
    "\n",
    "    df['publishedAt'].iloc[x] = published\n",
    "\n",
    "    df['Stream Start Time UST'].iloc[x] = insert_into\n",
    "    df['Month UST'].iloc[x] = df['Stream Start Time UST'].iloc[x].month_name()\n",
    "    df['Day of Week UST'].iloc[x] = df['Stream Start Time UST'].iloc[x].day_name()\n",
    "\n",
    "    df['Stream Start Time JST'].iloc[x] = insert_into.tz_localize('Japan')\n",
    "    df['Month JST'].iloc[x] = df['Stream Start Time JST'].iloc[x].month_name()\n",
    "    df['Day of Week JST'].iloc[x] = df['Stream Start Time JST'].iloc[x].day_name()\n",
    "\n",
    "    df['Stream Start Time CST'].iloc[x] = insert_into.tz_localize('US/Central')\n",
    "    df['Month CST'].iloc[x] = df['Stream Start Time CST'].iloc[x].month_name()\n",
    "    df['Day of Week CST'].iloc[x] = df['Stream Start Time CST'].iloc[x].day_name()\n",
    "\n",
    "    df['Stream Start Time PST'].iloc[x] = insert_into.tz_localize('US/Pacific')"
   ]
  },
  {
   "cell_type": "code",
   "execution_count": 182,
   "id": "990ccb85-e4d2-44f6-a5b7-857fb7449f76",
   "metadata": {},
   "outputs": [],
   "source": [
    "%%capture\n",
    "for x in range(0, len(df)):\n",
    "    # df['publishedAt'] = df['publishedAt'].fillna(df2.groupby('Creator')['transit_stations'].transform('mean'))\n",
    "    \n",
    "    if (pd.isnull(df['Stream Start Time UST'].iloc[x])) & (df['duration'].iloc[x] > 0.0):\n",
    "        try:\n",
    "            first_val_index = df['Stream Start Time UST'].iloc[x:].first_valid_index()\n",
    "            convert(first_val_index)\n",
    "            if abs(x - int(first_val_index)) > 25:\n",
    "                print(x, first_val_index)\n",
    "        except:   \n",
    "            print('go fuck yourself')\n",
    "            first_val_index = df['Stream Start Time UST'].iloc[:x].first_valid_index()\n",
    "            convert(first_val_index)"
   ]
  },
  {
   "cell_type": "code",
   "execution_count": 187,
   "id": "9aeb63b9-058f-4d3a-b92d-be0ffc5fa54b",
   "metadata": {},
   "outputs": [
    {
     "data": {
      "text/html": [
       "<div>\n",
       "<style scoped>\n",
       "    .dataframe tbody tr th:only-of-type {\n",
       "        vertical-align: middle;\n",
       "    }\n",
       "\n",
       "    .dataframe tbody tr th {\n",
       "        vertical-align: top;\n",
       "    }\n",
       "\n",
       "    .dataframe thead th {\n",
       "        text-align: right;\n",
       "    }\n",
       "</style>\n",
       "<table border=\"1\" class=\"dataframe\">\n",
       "  <thead>\n",
       "    <tr style=\"text-align: right;\">\n",
       "      <th></th>\n",
       "      <th>index</th>\n",
       "      <th>Video_ID</th>\n",
       "      <th>URL</th>\n",
       "      <th>Video_Title</th>\n",
       "      <th>Creator</th>\n",
       "      <th>Avg_viewers</th>\n",
       "      <th>Max_viewers</th>\n",
       "      <th>SuperChat_total</th>\n",
       "      <th>channelTitle</th>\n",
       "      <th>description</th>\n",
       "      <th>tags</th>\n",
       "      <th>publishedAt</th>\n",
       "      <th>Month UST</th>\n",
       "      <th>Day of Week UST</th>\n",
       "      <th>Stream Start Time UST</th>\n",
       "      <th>Month JST</th>\n",
       "      <th>Day of Week JST</th>\n",
       "      <th>Stream Start Time JST</th>\n",
       "      <th>Month CST</th>\n",
       "      <th>Day of Week CST</th>\n",
       "      <th>Stream Start Time CST</th>\n",
       "      <th>Stream Start Time PST</th>\n",
       "      <th>duration</th>\n",
       "      <th>channelName</th>\n",
       "      <th>Branch</th>\n",
       "      <th>subscribers</th>\n",
       "      <th>totalVideos</th>\n",
       "      <th>Stream_Start_Time_UST</th>\n",
       "    </tr>\n",
       "  </thead>\n",
       "  <tbody>\n",
       "  </tbody>\n",
       "</table>\n",
       "</div>"
      ],
      "text/plain": [
       "Empty DataFrame\n",
       "Columns: [index, Video_ID, URL, Video_Title, Creator, Avg_viewers, Max_viewers, SuperChat_total, channelTitle, description, tags, publishedAt, Month UST, Day of Week UST, Stream Start Time UST, Month JST, Day of Week JST, Stream Start Time JST, Month CST, Day of Week CST, Stream Start Time CST, Stream Start Time PST, duration, channelName, Branch, subscribers, totalVideos, Stream_Start_Time_UST]\n",
       "Index: []"
      ]
     },
     "execution_count": 187,
     "metadata": {},
     "output_type": "execute_result"
    },
    {
     "data": {
      "text/html": [
       "<div>\n",
       "<style scoped>\n",
       "    .dataframe tbody tr th:only-of-type {\n",
       "        vertical-align: middle;\n",
       "    }\n",
       "\n",
       "    .dataframe tbody tr th {\n",
       "        vertical-align: top;\n",
       "    }\n",
       "\n",
       "    .dataframe thead th {\n",
       "        text-align: right;\n",
       "    }\n",
       "</style>\n",
       "<table border=\"1\" class=\"dataframe\">\n",
       "  <thead>\n",
       "    <tr style=\"text-align: right;\">\n",
       "      <th></th>\n",
       "      <th>index</th>\n",
       "      <th>Video_ID</th>\n",
       "      <th>URL</th>\n",
       "      <th>Video_Title</th>\n",
       "      <th>Creator</th>\n",
       "      <th>Avg_viewers</th>\n",
       "      <th>Max_viewers</th>\n",
       "      <th>SuperChat_total</th>\n",
       "      <th>channelTitle</th>\n",
       "      <th>description</th>\n",
       "      <th>tags</th>\n",
       "      <th>publishedAt</th>\n",
       "      <th>Month UST</th>\n",
       "      <th>Day of Week UST</th>\n",
       "      <th>Stream Start Time UST</th>\n",
       "      <th>Month JST</th>\n",
       "      <th>Day of Week JST</th>\n",
       "      <th>Stream Start Time JST</th>\n",
       "      <th>Month CST</th>\n",
       "      <th>Day of Week CST</th>\n",
       "      <th>Stream Start Time CST</th>\n",
       "      <th>Stream Start Time PST</th>\n",
       "      <th>duration</th>\n",
       "      <th>channelName</th>\n",
       "      <th>Branch</th>\n",
       "      <th>subscribers</th>\n",
       "      <th>totalVideos</th>\n",
       "      <th>Stream_Start_Time_UST</th>\n",
       "    </tr>\n",
       "  </thead>\n",
       "  <tbody>\n",
       "  </tbody>\n",
       "</table>\n",
       "</div>"
      ],
      "text/plain": [
       "Empty DataFrame\n",
       "Columns: [index, Video_ID, URL, Video_Title, Creator, Avg_viewers, Max_viewers, SuperChat_total, channelTitle, description, tags, publishedAt, Month UST, Day of Week UST, Stream Start Time UST, Month JST, Day of Week JST, Stream Start Time JST, Month CST, Day of Week CST, Stream Start Time CST, Stream Start Time PST, duration, channelName, Branch, subscribers, totalVideos, Stream_Start_Time_UST]\n",
       "Index: []"
      ]
     },
     "execution_count": 187,
     "metadata": {},
     "output_type": "execute_result"
    }
   ],
   "source": [
    "df[df['Stream Start Time UST'].isna()]\n",
    "df[df['publishedAt'].isna()]"
   ]
  },
  {
   "cell_type": "code",
   "execution_count": 188,
   "id": "15fab683-26d9-4786-a154-622c71d3deb5",
   "metadata": {},
   "outputs": [
    {
     "data": {
      "text/plain": [
       "0\n",
       "index                                                                  279\n",
       "Video_ID                                                       1H0Sngat8Hw\n",
       "URL                                https://holo.poi.cat/stream/1H0Sngat8Hw\n",
       "Video_Title              ≪CHRISTMAS KARAOKE≫ preface. this is not gonna...\n",
       "Creator                                                        Hakos Baelz\n",
       "Avg_viewers                                                         5322.0\n",
       "Max_viewers                                                         8250.0\n",
       "SuperChat_total                                                     1090.9\n",
       "channelTitle                                                           NaN\n",
       "description                                                            NaN\n",
       "tags                                                                   NaN\n",
       "publishedAt                                            2022-12-24 04:29:59\n",
       "Month UST                                                         December\n",
       "Day of Week UST                                                   Saturday\n",
       "Stream Start Time UST                                  2022-12-24 01:31:42\n",
       "Month JST                                                         December\n",
       "Day of Week JST                                                   Saturday\n",
       "Stream Start Time JST                            2022-12-24 01:31:42+09:00\n",
       "Month CST                                                         December\n",
       "Day of Week CST                                                   Saturday\n",
       "Stream Start Time CST                            2022-12-24 01:31:42-06:00\n",
       "Stream Start Time PST                            2022-12-24 01:31:42-08:00\n",
       "duration                                                           10697.0\n",
       "channelName                                    Hakos Baelz Ch. hololive-EN\n",
       "Branch                                                             English\n",
       "subscribers                                                       747000.0\n",
       "totalVideos                                                          544.0\n",
       "Stream_Start_Time_UST                                  01:31:42 - 04:29:59\n",
       "Name: 280, dtype: object"
      ]
     },
     "execution_count": 188,
     "metadata": {},
     "output_type": "execute_result"
    }
   ],
   "source": [
    "df.iloc[279]"
   ]
  },
  {
   "cell_type": "code",
   "execution_count": 189,
   "id": "89600d66-6686-4440-804a-a0b535286c7f",
   "metadata": {},
   "outputs": [],
   "source": [
    "df['publishedAt'] = pd.to_datetime(df['publishedAt'], utc = True).dt.tz_convert(None)\n",
    "df['Stream Start Time CST'] = pd.to_datetime(df['Stream Start Time CST'], utc = True).dt.tz_convert('US/Central')\n",
    "df['Stream Start Time JST'] = pd.to_datetime(df['Stream Start Time JST'], utc = True).dt.tz_convert('Japan')\n",
    "df['Stream Start Time PST'] = pd.to_datetime(df['Stream Start Time PST'], utc = True).dt.tz_convert('US/Pacific')\n",
    "df['Stream Start Time UST'] = pd.to_datetime(df['Stream Start Time UST'], utc = True)"
   ]
  },
  {
   "cell_type": "code",
   "execution_count": 190,
   "id": "ce9c9bce-a801-443a-bd63-8b8aacc2b986",
   "metadata": {},
   "outputs": [
    {
     "data": {
      "text/plain": [
       "(12825, 28)"
      ]
     },
     "execution_count": 190,
     "metadata": {},
     "output_type": "execute_result"
    }
   ],
   "source": [
    "df.shape"
   ]
  },
  {
   "cell_type": "code",
   "execution_count": 191,
   "id": "424805e5-387c-4e5d-8ce1-48975a2642dd",
   "metadata": {},
   "outputs": [
    {
     "data": {
      "text/plain": [
       "(12791, 28)"
      ]
     },
     "execution_count": 191,
     "metadata": {},
     "output_type": "execute_result"
    }
   ],
   "source": [
    "pd.set_option('display.max_rows', 25)\n",
    "df = df.loc[~((df['Stream Start Time JST'].dt.year == 2023) & (df['Branch'] == 'Japan'))]\n",
    "df = df.loc[~((df['Stream Start Time JST'].dt.year == 2023) & (df['Branch'] == 'Indonesia'))]\n",
    "df = df.loc[~((df['Stream Start Time PST'].dt.year == 2023) & (df['Branch'] == 'English'))]\n",
    "df.shape"
   ]
  },
  {
   "cell_type": "code",
   "execution_count": 192,
   "id": "eac4694d-4604-4dc0-9bcd-54110986c23f",
   "metadata": {
    "tags": []
   },
   "outputs": [
    {
     "data": {
      "text/plain": [
       "0\n",
       "index                        0\n",
       "Video_ID                     0\n",
       "URL                          0\n",
       "Video_Title                  0\n",
       "Creator                      0\n",
       "Avg_viewers                  0\n",
       "Max_viewers                  0\n",
       "SuperChat_total              0\n",
       "channelTitle               741\n",
       "description                747\n",
       "tags                      3901\n",
       "publishedAt                  0\n",
       "Month UST                    0\n",
       "Day of Week UST              0\n",
       "Stream Start Time UST        0\n",
       "Month JST                    0\n",
       "Day of Week JST              0\n",
       "Stream Start Time JST        0\n",
       "Month CST                    0\n",
       "Day of Week CST              0\n",
       "Stream Start Time CST        0\n",
       "Stream Start Time PST        0\n",
       "duration                     0\n",
       "channelName                278\n",
       "Branch                       0\n",
       "subscribers                278\n",
       "totalVideos                278\n",
       "Stream_Start_Time_UST    12050\n",
       "dtype: int64"
      ]
     },
     "execution_count": 192,
     "metadata": {},
     "output_type": "execute_result"
    }
   ],
   "source": [
    "pd.set_option('display.max_rows', None)\n",
    "df.isna().sum()"
   ]
  },
  {
   "cell_type": "code",
   "execution_count": null,
   "id": "746f9a7b-1285-44fa-a461-e6a837fbbeff",
   "metadata": {},
   "outputs": [],
   "source": [
    "pd.set_option('display.max_rows', 25)"
   ]
  },
  {
   "cell_type": "code",
   "execution_count": null,
   "id": "d57c47af-d5a2-4905-b19b-4070fbdecad3",
   "metadata": {},
   "outputs": [],
   "source": [
    "df['publishedAt'] = pd.to_datetime(df['publishedAt'], utc = True).dt.tz_convert(None)\n",
    "df['Stream Start Time CST'] = pd.to_datetime(df['Stream Start Time CST']).dt.tz_convert(None)\n",
    "df['Stream Start Time JST'] = pd.to_datetime(df['Stream Start Time JST']).dt.tz_convert(None)\n",
    "df['Stream Start Time PST'] = pd.to_datetime(df['Stream Start Time PST']).dt.tz_convert(None)\n",
    "df['Stream Start Time UST'] = pd.to_datetime(df['Stream Start Time UST']).dt.tz_convert(None)"
   ]
  },
  {
   "cell_type": "code",
   "execution_count": null,
   "id": "315cc959-655f-47cd-bc97-024065c6df93",
   "metadata": {},
   "outputs": [],
   "source": [
    "df.iloc[0:10]"
   ]
  },
  {
   "cell_type": "code",
   "execution_count": 202,
   "id": "fe8351f3-2c07-4c1c-99a9-6b846f5ce69d",
   "metadata": {},
   "outputs": [],
   "source": [
    "#df[df['Stream Start Time UST'].dt.year == 2023]\n",
    "df.at[5, 'Stream Start Time UST'] = df.at[5, 'Stream Start Time UST'] - timedelta(days=1)"
   ]
  },
  {
   "cell_type": "code",
   "execution_count": 203,
   "id": "34706b8e-9b63-4f20-9191-98a910e19eec",
   "metadata": {
    "tags": []
   },
   "outputs": [],
   "source": [
    "df.to_excel('Hololive_ULT_2022.xlsx')\n",
    "#Holostats = pd.read_excel('Hololive_ULT_2022.xlsx')"
   ]
  }
 ],
 "metadata": {
  "kernelspec": {
   "display_name": "Python 3 (ipykernel)",
   "language": "python",
   "name": "python3"
  },
  "language_info": {
   "codemirror_mode": {
    "name": "ipython",
    "version": 3
   },
   "file_extension": ".py",
   "mimetype": "text/x-python",
   "name": "python",
   "nbconvert_exporter": "python",
   "pygments_lexer": "ipython3",
   "version": "3.9.7"
  }
 },
 "nbformat": 4,
 "nbformat_minor": 5
}
